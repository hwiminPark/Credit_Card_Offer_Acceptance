{
 "cells": [
  {
   "cell_type": "markdown",
   "metadata": {},
   "source": [
    "# Credit Card Offer Acceptance"
   ]
  },
  {
   "cell_type": "markdown",
   "metadata": {},
   "source": [
    "---"
   ]
  },
  {
   "cell_type": "markdown",
   "metadata": {},
   "source": [
    "## Introduction"
   ]
  },
  {
   "cell_type": "markdown",
   "metadata": {},
   "source": [
    "### Project Overview\n",
    "This project involves analyzing credit card offer acceptance data to predict customer likelihood of signing up for a credit card. By leveraging data on customer characteristics, the goal is to enhance targeted marketing strategies and identify the most compelling offers for different customer segments."
   ]
  },
  {
   "cell_type": "markdown",
   "metadata": {},
   "source": [
    "### Background\n",
    "The dataset used in this project comprises detailed information on customers and credit card offers. It includes data on customer demographics, such as income and credit rating, as well as specifics of the credit card offers, including reward types. This dataset is instrumental in understanding the factors that influence the acceptance rate of credit card offers. By analyzing these variables, we aim to uncover patterns and insights that drive customer decisions, ultimately improving the effectiveness of targeted marketing strategies."
   ]
  },
  {
   "cell_type": "markdown",
   "metadata": {},
   "source": [
    "### Objectives\n",
    "- **Customer Segmentation:** Classify customer profiles into distinct segments based on demographic and behavioral characteristics to better understand different customer groups.\n",
    "- **Impact Analysis:** Identify and evaluate the key factors that significantly influence a customer's decision to accept or decline a credit card offer.\n",
    "- **Predictive Modeling:** Develop a predictive model to forecast the likelihood of a customer accepting a credit card offer based on their individual characteristics."
   ]
  },
  {
   "cell_type": "markdown",
   "metadata": {},
   "source": [
    "### Data Description\n",
    "#### Dataset Overview\n",
    "The dataset used in this project is sourced from Data world's Credit Card Dataset. It includes 18,000 customer records and 18 features.\n",
    "#### Key Features\n",
    "- Customer Number: Unique identifier for each customer.\n",
    "- Offer Accepted: Indicator of whether the customer accepted the credit card offer. (Boolean)\n",
    "- Reward: Type of reward associated with the credit card.\n",
    "- Mailer Type: Method used to deliver the credit card offer.\n",
    "- Income Level: The customer’s income level.\n",
    "- Number of Bank Accounts Open: Count of bank accounts held by the customer.\n",
    "- Overdraft Protection: Indicator of whether the customer has overdraft protection on their accounts. (Boolean)\n",
    "- Credit Rating: Rating reflecting the customer’s creditworthiness, based on payment history and ability to repay debt.\n",
    "- Number of Credit Cards Held: Number of credit cards currently held by the customer.\n",
    "- Number of Homes Owned: Number of homes owned by the customer.\n",
    "- Household Size: Size of the customer’s household.\n",
    "- Own Your Home?: Indicator of whether the customer owns their home. (Boolean)\n",
    "- Average Balance: Average balance across all accounts.\n",
    "- Q1 Balance: Balance of the customer’s accounts for the first quarter of the year.\n",
    "- Q2 Balance: Balance of the customer’s accounts for the second quarter of the year. \n",
    "- Q3 Balance: Balance of the customer’s accounts for the third quarter of the year. \n",
    "- Q4 Balance: Balance of the customer’s accounts for the fourth quarter of the year. \n",
    "#### Data Types\n",
    "- Categorical: Offer Accepted, Mailer Type, Income Level\n",
    "- Numerical: Number of Bank Accounts Open, Overdraft Protection, Credit Rating, Number of Credit Cards Held, Number of Homes Owned, Household Size, Own Your Home?, Average Balance, Q1 Balance, Q2 Balance, Q3 Balance, Q4 Balance"
   ]
  },
  {
   "cell_type": "markdown",
   "metadata": {},
   "source": []
  }
 ],
 "metadata": {
  "language_info": {
   "name": "python"
  }
 },
 "nbformat": 4,
 "nbformat_minor": 2
}
